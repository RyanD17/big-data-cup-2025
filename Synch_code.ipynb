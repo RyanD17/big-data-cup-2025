{
 "cells": [
  {
   "cell_type": "code",
   "execution_count": 1,
   "metadata": {
    "id": "ebI7e38wJfRv"
   },
   "outputs": [
    {
     "name": "stderr",
     "output_type": "stream",
     "text": [
      "C:\\Users\\ryand\\AppData\\Local\\Temp\\ipykernel_15036\\3125403154.py:8: DtypeWarning: Columns (2,9) have mixed types. Specify dtype option on import or set low_memory=False.\n",
      "  a_b_tracking = pd.read_csv('raw_data/2024-10-13.Team.B.@.Team.A.-.Tracking.csv')\n",
      "C:\\Users\\ryand\\AppData\\Local\\Temp\\ipykernel_15036\\3125403154.py:12: DtypeWarning: Columns (9) have mixed types. Specify dtype option on import or set low_memory=False.\n",
      "  c_d_tracking = pd.read_csv('raw_data/2024-11-15.Team.D.@.Team.C.-.Tracking.csv')\n",
      "C:\\Users\\ryand\\AppData\\Local\\Temp\\ipykernel_15036\\3125403154.py:16: DtypeWarning: Columns (9) have mixed types. Specify dtype option on import or set low_memory=False.\n",
      "  e_f_tracking = pd.read_csv('raw_data/2024-11-16.Team.F.@.Team.E.-.Tracking.csv')\n"
     ]
    },
    {
     "ename": "ValueError",
     "evalue": "time data 'nan' does not match format '%M:%S.%f'",
     "output_type": "error",
     "traceback": [
      "\u001B[1;31m---------------------------------------------------------------------------\u001B[0m",
      "\u001B[1;31mValueError\u001B[0m                                Traceback (most recent call last)",
      "Cell \u001B[1;32mIn[1], line 26\u001B[0m, in \u001B[0;36mtime_to_seconds\u001B[1;34m(time_str)\u001B[0m\n\u001B[0;32m     24\u001B[0m \u001B[38;5;28;01mtry\u001B[39;00m:\n\u001B[0;32m     25\u001B[0m     \u001B[38;5;66;03m# Handle 'MM:SS' format\u001B[39;00m\n\u001B[1;32m---> 26\u001B[0m     time_obj \u001B[38;5;241m=\u001B[39m datetime\u001B[38;5;241m.\u001B[39mstrptime(time_str, \u001B[38;5;124m\"\u001B[39m\u001B[38;5;124m%\u001B[39m\u001B[38;5;124mM:\u001B[39m\u001B[38;5;124m%\u001B[39m\u001B[38;5;124mS\u001B[39m\u001B[38;5;124m\"\u001B[39m)\n\u001B[0;32m     27\u001B[0m \u001B[38;5;28;01mexcept\u001B[39;00m \u001B[38;5;167;01mValueError\u001B[39;00m:\n\u001B[0;32m     28\u001B[0m     \u001B[38;5;66;03m# Handle 'MM:SS.sss' format\u001B[39;00m\n",
      "File \u001B[1;32m~\\AppData\\Local\\Programs\\ArcGIS\\Pro\\bin\\Python\\envs\\arcgispro-py3\\Lib\\_strptime.py:567\u001B[0m, in \u001B[0;36m_strptime_datetime\u001B[1;34m(cls, data_string, format)\u001B[0m\n\u001B[0;32m    565\u001B[0m \u001B[38;5;250m\u001B[39m\u001B[38;5;124;03m\"\"\"Return a class cls instance based on the input string and the\u001B[39;00m\n\u001B[0;32m    566\u001B[0m \u001B[38;5;124;03mformat string.\"\"\"\u001B[39;00m\n\u001B[1;32m--> 567\u001B[0m tt, fraction, gmtoff_fraction \u001B[38;5;241m=\u001B[39m _strptime(data_string, \u001B[38;5;28mformat\u001B[39m)\n\u001B[0;32m    568\u001B[0m tzname, gmtoff \u001B[38;5;241m=\u001B[39m tt[\u001B[38;5;241m-\u001B[39m\u001B[38;5;241m2\u001B[39m:]\n",
      "File \u001B[1;32m~\\AppData\\Local\\Programs\\ArcGIS\\Pro\\bin\\Python\\envs\\arcgispro-py3\\Lib\\_strptime.py:349\u001B[0m, in \u001B[0;36m_strptime\u001B[1;34m(data_string, format)\u001B[0m\n\u001B[0;32m    348\u001B[0m \u001B[38;5;28;01mif\u001B[39;00m \u001B[38;5;129;01mnot\u001B[39;00m found:\n\u001B[1;32m--> 349\u001B[0m     \u001B[38;5;28;01mraise\u001B[39;00m \u001B[38;5;167;01mValueError\u001B[39;00m(\u001B[38;5;124m\"\u001B[39m\u001B[38;5;124mtime data \u001B[39m\u001B[38;5;132;01m%r\u001B[39;00m\u001B[38;5;124m does not match format \u001B[39m\u001B[38;5;132;01m%r\u001B[39;00m\u001B[38;5;124m\"\u001B[39m \u001B[38;5;241m%\u001B[39m\n\u001B[0;32m    350\u001B[0m                      (data_string, \u001B[38;5;28mformat\u001B[39m))\n\u001B[0;32m    351\u001B[0m \u001B[38;5;28;01mif\u001B[39;00m \u001B[38;5;28mlen\u001B[39m(data_string) \u001B[38;5;241m!=\u001B[39m found\u001B[38;5;241m.\u001B[39mend():\n",
      "\u001B[1;31mValueError\u001B[0m: time data 'nan' does not match format '%M:%S'",
      "\nDuring handling of the above exception, another exception occurred:\n",
      "\u001B[1;31mValueError\u001B[0m                                Traceback (most recent call last)",
      "Cell \u001B[1;32mIn[1], line 92\u001B[0m\n\u001B[0;32m     88\u001B[0m     synch_tracking\u001B[38;5;241m.\u001B[39mdrop(columns\u001B[38;5;241m=\u001B[39m[\u001B[38;5;124m'\u001B[39m\u001B[38;5;124mGame Clock Seconds\u001B[39m\u001B[38;5;124m'\u001B[39m, \u001B[38;5;124m'\u001B[39m\u001B[38;5;124mDistance\u001B[39m\u001B[38;5;124m'\u001B[39m], inplace\u001B[38;5;241m=\u001B[39m\u001B[38;5;28;01mTrue\u001B[39;00m)\n\u001B[0;32m     90\u001B[0m     \u001B[38;5;28;01mreturn\u001B[39;00m synch_tracking\n\u001B[1;32m---> 92\u001B[0m synch_tracking_ab \u001B[38;5;241m=\u001B[39m synchronize(a_b_events, a_b_tracking)\n\u001B[0;32m     93\u001B[0m synch_tracking_ab\u001B[38;5;241m.\u001B[39mto_csv(file_path)\n",
      "Cell \u001B[1;32mIn[1], line 70\u001B[0m, in \u001B[0;36msynchronize\u001B[1;34m(events, tracking)\u001B[0m\n\u001B[0;32m     66\u001B[0m adjusted_event_clock_seconds \u001B[38;5;241m=\u001B[39m event_clock_seconds \u001B[38;5;241m+\u001B[39m time_tolerance\n\u001B[0;32m     68\u001B[0m \u001B[38;5;66;03m# Find matching frames in the tracking dataset\u001B[39;00m\n\u001B[0;32m     69\u001B[0m \u001B[38;5;66;03m# Convert tracking Game Clock to seconds\u001B[39;00m\n\u001B[1;32m---> 70\u001B[0m synch_tracking[\u001B[38;5;124m'\u001B[39m\u001B[38;5;124mGame Clock Seconds\u001B[39m\u001B[38;5;124m'\u001B[39m] \u001B[38;5;241m=\u001B[39m synch_tracking[\u001B[38;5;124m'\u001B[39m\u001B[38;5;124mGame Clock\u001B[39m\u001B[38;5;124m'\u001B[39m]\u001B[38;5;241m.\u001B[39mapply(time_to_seconds)\n\u001B[0;32m     72\u001B[0m \u001B[38;5;66;03m# Select frames where the Game Clock is close to the adjusted event time\u001B[39;00m\n\u001B[0;32m     73\u001B[0m matching_frames \u001B[38;5;241m=\u001B[39m synch_tracking[\n\u001B[0;32m     74\u001B[0m     np\u001B[38;5;241m.\u001B[39mabs(synch_tracking[\u001B[38;5;124m'\u001B[39m\u001B[38;5;124mGame Clock Seconds\u001B[39m\u001B[38;5;124m'\u001B[39m] \u001B[38;5;241m-\u001B[39m adjusted_event_clock_seconds) \u001B[38;5;241m<\u001B[39m \u001B[38;5;241m1\u001B[39m]\n",
      "File \u001B[1;32m~\\AppData\\Local\\Programs\\ArcGIS\\Pro\\bin\\Python\\envs\\arcgispro-py3\\Lib\\site-packages\\pandas\\core\\series.py:4630\u001B[0m, in \u001B[0;36mSeries.apply\u001B[1;34m(self, func, convert_dtype, args, **kwargs)\u001B[0m\n\u001B[0;32m   4520\u001B[0m \u001B[38;5;28;01mdef\u001B[39;00m \u001B[38;5;21mapply\u001B[39m(\n\u001B[0;32m   4521\u001B[0m     \u001B[38;5;28mself\u001B[39m,\n\u001B[0;32m   4522\u001B[0m     func: AggFuncType,\n\u001B[1;32m   (...)\u001B[0m\n\u001B[0;32m   4525\u001B[0m     \u001B[38;5;241m*\u001B[39m\u001B[38;5;241m*\u001B[39mkwargs,\n\u001B[0;32m   4526\u001B[0m ) \u001B[38;5;241m-\u001B[39m\u001B[38;5;241m>\u001B[39m DataFrame \u001B[38;5;241m|\u001B[39m Series:\n\u001B[0;32m   4527\u001B[0m \u001B[38;5;250m    \u001B[39m\u001B[38;5;124;03m\"\"\"\u001B[39;00m\n\u001B[0;32m   4528\u001B[0m \u001B[38;5;124;03m    Invoke function on values of Series.\u001B[39;00m\n\u001B[0;32m   4529\u001B[0m \n\u001B[1;32m   (...)\u001B[0m\n\u001B[0;32m   4628\u001B[0m \u001B[38;5;124;03m    dtype: float64\u001B[39;00m\n\u001B[0;32m   4629\u001B[0m \u001B[38;5;124;03m    \"\"\"\u001B[39;00m\n\u001B[1;32m-> 4630\u001B[0m     \u001B[38;5;28;01mreturn\u001B[39;00m SeriesApply(\u001B[38;5;28mself\u001B[39m, func, convert_dtype, args, kwargs)\u001B[38;5;241m.\u001B[39mapply()\n",
      "File \u001B[1;32m~\\AppData\\Local\\Programs\\ArcGIS\\Pro\\bin\\Python\\envs\\arcgispro-py3\\Lib\\site-packages\\pandas\\core\\apply.py:1025\u001B[0m, in \u001B[0;36mSeriesApply.apply\u001B[1;34m(self)\u001B[0m\n\u001B[0;32m   1022\u001B[0m     \u001B[38;5;28;01mreturn\u001B[39;00m \u001B[38;5;28mself\u001B[39m\u001B[38;5;241m.\u001B[39mapply_str()\n\u001B[0;32m   1024\u001B[0m \u001B[38;5;66;03m# self.f is Callable\u001B[39;00m\n\u001B[1;32m-> 1025\u001B[0m \u001B[38;5;28;01mreturn\u001B[39;00m \u001B[38;5;28mself\u001B[39m\u001B[38;5;241m.\u001B[39mapply_standard()\n",
      "File \u001B[1;32m~\\AppData\\Local\\Programs\\ArcGIS\\Pro\\bin\\Python\\envs\\arcgispro-py3\\Lib\\site-packages\\pandas\\core\\apply.py:1076\u001B[0m, in \u001B[0;36mSeriesApply.apply_standard\u001B[1;34m(self)\u001B[0m\n\u001B[0;32m   1074\u001B[0m     \u001B[38;5;28;01melse\u001B[39;00m:\n\u001B[0;32m   1075\u001B[0m         values \u001B[38;5;241m=\u001B[39m obj\u001B[38;5;241m.\u001B[39mastype(\u001B[38;5;28mobject\u001B[39m)\u001B[38;5;241m.\u001B[39m_values\n\u001B[1;32m-> 1076\u001B[0m         mapped \u001B[38;5;241m=\u001B[39m lib\u001B[38;5;241m.\u001B[39mmap_infer(\n\u001B[0;32m   1077\u001B[0m             values,\n\u001B[0;32m   1078\u001B[0m             f,\n\u001B[0;32m   1079\u001B[0m             convert\u001B[38;5;241m=\u001B[39m\u001B[38;5;28mself\u001B[39m\u001B[38;5;241m.\u001B[39mconvert_dtype,\n\u001B[0;32m   1080\u001B[0m         )\n\u001B[0;32m   1082\u001B[0m \u001B[38;5;28;01mif\u001B[39;00m \u001B[38;5;28mlen\u001B[39m(mapped) \u001B[38;5;129;01mand\u001B[39;00m \u001B[38;5;28misinstance\u001B[39m(mapped[\u001B[38;5;241m0\u001B[39m], ABCSeries):\n\u001B[0;32m   1083\u001B[0m     \u001B[38;5;66;03m# GH#43986 Need to do list(mapped) in order to get treated as nested\u001B[39;00m\n\u001B[0;32m   1084\u001B[0m     \u001B[38;5;66;03m#  See also GH#25959 regarding EA support\u001B[39;00m\n\u001B[0;32m   1085\u001B[0m     \u001B[38;5;28;01mreturn\u001B[39;00m obj\u001B[38;5;241m.\u001B[39m_constructor_expanddim(\u001B[38;5;28mlist\u001B[39m(mapped), index\u001B[38;5;241m=\u001B[39mobj\u001B[38;5;241m.\u001B[39mindex)\n",
      "File \u001B[1;32m~\\AppData\\Local\\Programs\\ArcGIS\\Pro\\bin\\Python\\envs\\arcgispro-py3\\Lib\\site-packages\\pandas\\_libs\\lib.pyx:2834\u001B[0m, in \u001B[0;36mpandas._libs.lib.map_infer\u001B[1;34m()\u001B[0m\n",
      "Cell \u001B[1;32mIn[1], line 29\u001B[0m, in \u001B[0;36mtime_to_seconds\u001B[1;34m(time_str)\u001B[0m\n\u001B[0;32m     26\u001B[0m     time_obj \u001B[38;5;241m=\u001B[39m datetime\u001B[38;5;241m.\u001B[39mstrptime(time_str, \u001B[38;5;124m\"\u001B[39m\u001B[38;5;124m%\u001B[39m\u001B[38;5;124mM:\u001B[39m\u001B[38;5;124m%\u001B[39m\u001B[38;5;124mS\u001B[39m\u001B[38;5;124m\"\u001B[39m)\n\u001B[0;32m     27\u001B[0m \u001B[38;5;28;01mexcept\u001B[39;00m \u001B[38;5;167;01mValueError\u001B[39;00m:\n\u001B[0;32m     28\u001B[0m     \u001B[38;5;66;03m# Handle 'MM:SS.sss' format\u001B[39;00m\n\u001B[1;32m---> 29\u001B[0m     time_obj \u001B[38;5;241m=\u001B[39m datetime\u001B[38;5;241m.\u001B[39mstrptime(time_str, \u001B[38;5;124m\"\u001B[39m\u001B[38;5;124m%\u001B[39m\u001B[38;5;124mM:\u001B[39m\u001B[38;5;124m%\u001B[39m\u001B[38;5;124mS.\u001B[39m\u001B[38;5;132;01m%f\u001B[39;00m\u001B[38;5;124m\"\u001B[39m)\n\u001B[0;32m     31\u001B[0m \u001B[38;5;28;01mreturn\u001B[39;00m time_obj\u001B[38;5;241m.\u001B[39mminute \u001B[38;5;241m*\u001B[39m \u001B[38;5;241m60\u001B[39m \u001B[38;5;241m+\u001B[39m time_obj\u001B[38;5;241m.\u001B[39msecond \u001B[38;5;241m+\u001B[39m time_obj\u001B[38;5;241m.\u001B[39mmicrosecond \u001B[38;5;241m/\u001B[39m \u001B[38;5;241m1e6\u001B[39m\n",
      "File \u001B[1;32m~\\AppData\\Local\\Programs\\ArcGIS\\Pro\\bin\\Python\\envs\\arcgispro-py3\\Lib\\_strptime.py:567\u001B[0m, in \u001B[0;36m_strptime_datetime\u001B[1;34m(cls, data_string, format)\u001B[0m\n\u001B[0;32m    564\u001B[0m \u001B[38;5;28;01mdef\u001B[39;00m \u001B[38;5;21m_strptime_datetime\u001B[39m(\u001B[38;5;28mcls\u001B[39m, data_string, \u001B[38;5;28mformat\u001B[39m\u001B[38;5;241m=\u001B[39m\u001B[38;5;124m\"\u001B[39m\u001B[38;5;132;01m%a\u001B[39;00m\u001B[38;5;124m \u001B[39m\u001B[38;5;124m%\u001B[39m\u001B[38;5;124mb \u001B[39m\u001B[38;5;132;01m%d\u001B[39;00m\u001B[38;5;124m \u001B[39m\u001B[38;5;124m%\u001B[39m\u001B[38;5;124mH:\u001B[39m\u001B[38;5;124m%\u001B[39m\u001B[38;5;124mM:\u001B[39m\u001B[38;5;124m%\u001B[39m\u001B[38;5;124mS \u001B[39m\u001B[38;5;124m%\u001B[39m\u001B[38;5;124mY\u001B[39m\u001B[38;5;124m\"\u001B[39m):\n\u001B[0;32m    565\u001B[0m \u001B[38;5;250m    \u001B[39m\u001B[38;5;124;03m\"\"\"Return a class cls instance based on the input string and the\u001B[39;00m\n\u001B[0;32m    566\u001B[0m \u001B[38;5;124;03m    format string.\"\"\"\u001B[39;00m\n\u001B[1;32m--> 567\u001B[0m     tt, fraction, gmtoff_fraction \u001B[38;5;241m=\u001B[39m _strptime(data_string, \u001B[38;5;28mformat\u001B[39m)\n\u001B[0;32m    568\u001B[0m     tzname, gmtoff \u001B[38;5;241m=\u001B[39m tt[\u001B[38;5;241m-\u001B[39m\u001B[38;5;241m2\u001B[39m:]\n\u001B[0;32m    569\u001B[0m     args \u001B[38;5;241m=\u001B[39m tt[:\u001B[38;5;241m6\u001B[39m] \u001B[38;5;241m+\u001B[39m (fraction,)\n",
      "File \u001B[1;32m~\\AppData\\Local\\Programs\\ArcGIS\\Pro\\bin\\Python\\envs\\arcgispro-py3\\Lib\\_strptime.py:349\u001B[0m, in \u001B[0;36m_strptime\u001B[1;34m(data_string, format)\u001B[0m\n\u001B[0;32m    347\u001B[0m found \u001B[38;5;241m=\u001B[39m format_regex\u001B[38;5;241m.\u001B[39mmatch(data_string)\n\u001B[0;32m    348\u001B[0m \u001B[38;5;28;01mif\u001B[39;00m \u001B[38;5;129;01mnot\u001B[39;00m found:\n\u001B[1;32m--> 349\u001B[0m     \u001B[38;5;28;01mraise\u001B[39;00m \u001B[38;5;167;01mValueError\u001B[39;00m(\u001B[38;5;124m\"\u001B[39m\u001B[38;5;124mtime data \u001B[39m\u001B[38;5;132;01m%r\u001B[39;00m\u001B[38;5;124m does not match format \u001B[39m\u001B[38;5;132;01m%r\u001B[39;00m\u001B[38;5;124m\"\u001B[39m \u001B[38;5;241m%\u001B[39m\n\u001B[0;32m    350\u001B[0m                      (data_string, \u001B[38;5;28mformat\u001B[39m))\n\u001B[0;32m    351\u001B[0m \u001B[38;5;28;01mif\u001B[39;00m \u001B[38;5;28mlen\u001B[39m(data_string) \u001B[38;5;241m!=\u001B[39m found\u001B[38;5;241m.\u001B[39mend():\n\u001B[0;32m    352\u001B[0m     \u001B[38;5;28;01mraise\u001B[39;00m \u001B[38;5;167;01mValueError\u001B[39;00m(\u001B[38;5;124m\"\u001B[39m\u001B[38;5;124munconverted data remains: \u001B[39m\u001B[38;5;132;01m%s\u001B[39;00m\u001B[38;5;124m\"\u001B[39m \u001B[38;5;241m%\u001B[39m\n\u001B[0;32m    353\u001B[0m                       data_string[found\u001B[38;5;241m.\u001B[39mend():])\n",
      "\u001B[1;31mValueError\u001B[0m: time data 'nan' does not match format '%M:%S.%f'"
     ]
    }
   ],
   "source": [
    "import pandas as pd\n",
    "from datetime import datetime, timedelta\n",
    "\n",
    "events_df = pd.read_csv('big-data-cup-2025/raw_data/2024-10-13.Team.B.@.Team.A.-.Events.csv')\n",
    "tracking_df = pd.read_csv('big-data-cup-2025/raw_data/2024-10-13.Team.B.@.Team.A.-.Tracking.csv', low_memory=False)\n",
    "\n",
    "def time_to_seconds(time_val):\n",
    "    if isinstance(time_val, str):\n",
    "        try:\n",
    "            minutes, seconds = map(float, time_val.split(':'))\n",
    "            return minutes * 60 + seconds\n",
    "        except ValueError:\n",
    "            return None\n",
    "    elif isinstance(time_val, (int, float)):\n",
    "        return float(time_val)\n",
    "    else:\n",
    "        return None\n",
    "\n",
    "tracking_df['Game Clock'] = tracking_df['Game Clock'].apply(time_to_seconds)\n",
    "\n",
    "def synchronize_events_with_tracking(events_df, tracking_df):\n",
    "    # Find the first event after the start of the period (puck recovery off face-off)\n",
    "    first_event = events_df[(events_df['Event'] == 'Puck Recovery') &\n",
    "                            (events_df['Clock'] != '20:00')].iloc[0]\n",
    "\n",
    "    # Convert event time to seconds\n",
    "    event_time = datetime.strptime(first_event['Clock'], '%M:%S')\n",
    "    event_seconds = event_time.minute * 60 + event_time.second\n",
    "\n",
    "    # Ensure 'Game Clock' is numeric\n",
    "    tracking_df['Game Clock'] = pd.to_numeric(tracking_df['Game Clock'], errors='coerce')\n",
    "\n",
    "    # Find the most similar frame in tracking data\n",
    "    tracking_df['time_diff'] = abs(events_df['Clock'].apply(time_to_seconds) - event_seconds)\n",
    "    closest_frame = tracking_df.loc[tracking_df['time_diff'].idxmin()]\n",
    "\n",
    "    # Calculate time difference\n",
    "    time_diff = closest_frame['Game Clock'] - event_seconds\n",
    "\n",
    "    # Adjust event times\n",
    "    def adjust_time(time_str):\n",
    "        time = datetime.strptime(time_str, '%M:%S')\n",
    "        new_time = time + timedelta(seconds=time_diff)\n",
    "        return new_time.strftime('%M:%S')\n",
    "\n",
    "    events_df['Adjusted_Clock'] = events_df['Clock'].apply(adjust_time)\n",
    "\n",
    "    return events_df\n",
    "\n",
    "\n",
    "# Example usage:\n",
    "synchronized_events = synchronize_events_with_tracking(events_df, tracking_df)\n",
    "\n",
    "#Create a syncroized events csv file\n",
    "synchronized_events.to_csv('synchronized_events.csv', index=False)\n"
   ]
  },
  {
   "cell_type": "code",
   "execution_count": null,
   "metadata": {},
   "outputs": [],
   "source": []
  }
 ],
 "metadata": {
  "colab": {
   "provenance": []
  },
  "kernelspec": {
   "display_name": "Python 3 (ipykernel)",
   "language": "python",
   "name": "python3"
  },
  "language_info": {
   "codemirror_mode": {
    "name": "ipython",
    "version": 3
   },
   "file_extension": ".py",
   "mimetype": "text/x-python",
   "name": "python",
   "nbconvert_exporter": "python",
   "pygments_lexer": "ipython3",
   "version": "3.11.10"
  }
 },
 "nbformat": 4,
 "nbformat_minor": 4
}
