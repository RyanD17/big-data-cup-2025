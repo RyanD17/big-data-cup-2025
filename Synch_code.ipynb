{
 "cells": [
  {
   "cell_type": "code",
   "metadata": {
    "id": "ebI7e38wJfRv",
    "ExecuteTime": {
     "end_time": "2025-01-08T02:23:48.481167Z",
     "start_time": "2025-01-08T02:23:47.263813Z"
    }
   },
   "source": [
    "import pandas as pd\n",
    "from datetime import datetime, timedelta\n",
    "\n",
    "events_df = pd.read_csv('raw_data/2024-10-13.Team.B.@.Team.A.-.Events.csv')\n",
    "tracking_df = pd.read_csv('raw_data/2024-10-13.Team.B.@.Team.A.-.Tracking.csv', low_memory=False)\n",
    "\n",
    "def time_to_seconds(time_val):\n",
    "    if isinstance(time_val, str):\n",
    "        try:\n",
    "            minutes, seconds = map(float, time_val.split(':'))\n",
    "            return minutes * 60 + seconds\n",
    "        except ValueError:\n",
    "            return None\n",
    "    elif isinstance(time_val, (int, float)):\n",
    "        return float(time_val)\n",
    "    else:\n",
    "        return None\n",
    "\n",
    "tracking_df['Game Clock'] = tracking_df['Game Clock'].apply(time_to_seconds)\n",
    "\n",
    "def synchronize_events_with_tracking(events_df, tracking_df):\n",
    "    # Find the first event after the start of the period (puck recovery off face-off)\n",
    "    first_event = events_df[(events_df['Event'] == 'Puck Recovery') &\n",
    "                            (events_df['Clock'] != '20:00')].iloc[0]\n",
    "\n",
    "    # Convert event time to seconds\n",
    "    event_time = datetime.strptime(first_event['Clock'], '%M:%S')\n",
    "    event_seconds = event_time.minute * 60 + event_time.second\n",
    "\n",
    "    # Ensure 'Game Clock' is numeric\n",
    "    tracking_df['Game Clock'] = pd.to_numeric(tracking_df['Game Clock'], errors='coerce')\n",
    "\n",
    "    # Find the most similar frame in tracking data\n",
    "    tracking_df['time_diff'] = abs(events_df['Clock'].apply(time_to_seconds) - event_seconds)\n",
    "    closest_frame = tracking_df.loc[tracking_df['time_diff'].idxmin()]\n",
    "\n",
    "    # Calculate time difference\n",
    "    time_diff = closest_frame['Game Clock'] - event_seconds\n",
    "\n",
    "    # Adjust event times\n",
    "    def adjust_time(time_str):\n",
    "        time = datetime.strptime(time_str, '%M:%S')\n",
    "        new_time = time + timedelta(seconds=time_diff)\n",
    "        return new_time.strftime('%M:%S')\n",
    "\n",
    "    events_df['Adjusted_Clock'] = events_df['Clock'].apply(adjust_time)\n",
    "\n",
    "    return events_df\n",
    "\n",
    "\n",
    "# Example usage:\n",
    "synchronized_events = synchronize_events_with_tracking(events_df, tracking_df)\n",
    "\n",
    "#Create a syncroized events csv file\n",
    "synchronized_events.to_csv('synchronized_events.csv', index=False)"
   ],
   "outputs": [],
   "execution_count": 3
  },
  {
   "cell_type": "code",
   "execution_count": null,
   "metadata": {},
   "outputs": [],
   "source": []
  }
 ],
 "metadata": {
  "colab": {
   "provenance": []
  },
  "kernelspec": {
   "display_name": "Python 3 (ipykernel)",
   "language": "python",
   "name": "python3"
  },
  "language_info": {
   "codemirror_mode": {
    "name": "ipython",
    "version": 3
   },
   "file_extension": ".py",
   "mimetype": "text/x-python",
   "name": "python",
   "nbconvert_exporter": "python",
   "pygments_lexer": "ipython3",
   "version": "3.11.10"
  }
 },
 "nbformat": 4,
 "nbformat_minor": 4
}
