{
  "nbformat": 4,
  "nbformat_minor": 0,
  "metadata": {
    "colab": {
      "provenance": []
    },
    "kernelspec": {
      "name": "python3",
      "display_name": "Python 3"
    },
    "language_info": {
      "name": "python"
    }
  },
  "cells": [
    {
      "cell_type": "markdown",
      "source": [
        "**Coverage percentage**\n",
        "\n",
        "In this code, we first compute the **Coverage %** of a penalty kill for a specific penalty kill.\n",
        "How we define **Coverage %** first needs to be introduced by an intuitive set of ideas for what constitutes of good in-zone defensive coverage.\n",
        "\n",
        "1.   The overall amount of space available for the \"attacking team\" is reduced by good defensive coverage.\n",
        "2.   The closer the defender to a player on the attacking team, the less space the player on the attacking team has.  \n",
        "\n",
        "Thus, by staying close to players in the offensive zone, taking away space for each player on and off the puck, a good zonal coverage should hope to lead to favourable defensive situations.\n",
        "\n",
        "We define **Coverage %** of a given frame as:\n",
        "\n",
        "Coverage% = Area(ConvHull(K) ∩ ConvHull(P))/Area(ConvHull(P))\n",
        "\n",
        "Where P, K = set of power-play and penalty-kill players respectively, and ConvHull(X) is the Convex Hull of a given set X.\n",
        "\n",
        "By taking this coverage % by the total number of frames in the given penalty kill, we measure **how well the set of power-play players on the boundary of the power-play convex hull is covered by the set of penalty-kill players on the boundary of the penalty-kill hull**, in hopes of retrieving further insight on how well a penalty kill performs at all times, as well as hoping to perform more inference on how much of penalty-kill performance is on player quality vs the set-up of a penalty kill.\n",
        "\n"
      ],
      "metadata": {
        "id": "lvlhhI-Gedac"
      }
    },
    {
      "cell_type": "code",
      "execution_count": 16,
      "metadata": {
        "colab": {
          "base_uri": "https://localhost:8080/"
        },
        "id": "fU-Tu_wYePnv",
        "outputId": "c39f97e8-1896-4eb7-c90e-02a261d1aa6c"
      },
      "outputs": [
        {
          "output_type": "stream",
          "name": "stdout",
          "text": [
            "Requirement already satisfied: shapely in /usr/local/lib/python3.11/dist-packages (2.0.6)\n",
            "Requirement already satisfied: numpy<3,>=1.14 in /usr/local/lib/python3.11/dist-packages (from shapely) (1.26.4)\n",
            "Drive already mounted at /content/drive; to attempt to forcibly remount, call drive.mount(\"/content/drive\", force_remount=True).\n"
          ]
        }
      ],
      "source": [
        "!pip install shapely\n",
        "import pandas as pd\n",
        "import shapely\n",
        "from shapely.geometry import MultiPoint\n",
        "from shapely.ops import unary_union\n",
        "from google.colab import drive\n",
        "from shapely.errors import EmptyPartError\n",
        "drive.mount('/content/drive')"
      ]
    },
    {
      "cell_type": "code",
      "source": [
        "def compute_dynamic_coverage(teamA_points, teamB_points, teamA_count, teamB_count):\n",
        "    \"\"\"\n",
        "    coverage = area(ConvexHull(A) ∩ ConvexHull(B)) / area(ConvexHull(team with more players))\n",
        "    If a hull is invalid or empty, return 0.\n",
        "    \"\"\"\n",
        "    # If either side has < 3 points, it can't form a polygon hull\n",
        "    if len(teamA_points) < 3 or len(teamB_points) < 3:\n",
        "        return 0.0\n",
        "\n",
        "    try:\n",
        "        hullA = MultiPoint(teamA_points).convex_hull\n",
        "        hullB = MultiPoint(teamB_points).convex_hull\n",
        "    except EmptyPartError:\n",
        "        # This happens if Shapely fails to create a geometry for some reason\n",
        "        return 0.0\n",
        "\n",
        "    intersection_area = hullA.intersection(hullB).area\n",
        "\n",
        "    if teamA_count > teamB_count:\n",
        "        denom_area = hullA.area\n",
        "    elif teamB_count > teamA_count:\n",
        "        denom_area = hullB.area\n",
        "    else:\n",
        "        # Tie -> default to hullA\n",
        "        denom_area = hullA.area\n",
        "\n",
        "    if denom_area == 0:\n",
        "        return 0.0\n",
        "\n",
        "    return intersection_area / denom_area\n",
        "\n",
        "\n",
        "def calculate_coverage_dynamic(df,\n",
        "                              home_label=\"Home\",\n",
        "                              away_label=\"Away\",\n",
        "                              frame_col=\"Image Id\",\n",
        "                              team_col=\"Team\",\n",
        "                              x_col=\"Rink Location X (Feet)\",\n",
        "                              y_col=\"Rink Location Y (Feet)\",\n",
        "                              period_col=\"Period\",\n",
        "                              clock_col=\"Game Clock\",\n",
        "                              output_csv=\"coverage_dynamic.csv\"):\n",
        "    \"\"\"\n",
        "    Computes coverage per frame, safely handling empty or invalid coordinates.\n",
        "    \"\"\"\n",
        "    coverage_results = []\n",
        "\n",
        "    # Ensure entire DataFrame has numeric x,y (coerce invalid to NaN)\n",
        "    df[x_col] = pd.to_numeric(df[x_col], errors=\"coerce\")\n",
        "    df[y_col] = pd.to_numeric(df[y_col], errors=\"coerce\")\n",
        "\n",
        "    # Group by each frame\n",
        "    for frame_id, frame_data in df.groupby(frame_col):\n",
        "\n",
        "        # Separate Home vs Away\n",
        "        home_data = frame_data[frame_data[team_col] == home_label].copy()\n",
        "        away_data = frame_data[frame_data[team_col] == away_label].copy()\n",
        "\n",
        "        # Drop rows with NaN coords\n",
        "        home_data.dropna(subset=[x_col, y_col], inplace=True)\n",
        "        away_data.dropna(subset=[x_col, y_col], inplace=True)\n",
        "\n",
        "        # Build point lists\n",
        "        home_points = list(zip(home_data[x_col], home_data[y_col]))\n",
        "        away_points = list(zip(away_data[x_col], away_data[y_col]))\n",
        "\n",
        "        home_count = len(home_data)\n",
        "        away_count = len(away_data)\n",
        "\n",
        "        coverage_value = compute_dynamic_coverage(\n",
        "            home_points,\n",
        "            away_points,\n",
        "            home_count,\n",
        "            away_count\n",
        "        )\n",
        "\n",
        "        # Grab clock & period from the first row (if any)\n",
        "        if len(frame_data) > 0:\n",
        "            game_clock = frame_data.iloc[0][clock_col]\n",
        "            period = frame_data.iloc[0][period_col]\n",
        "        else:\n",
        "            game_clock = None\n",
        "            period = None\n",
        "\n",
        "        coverage_results.append({\n",
        "            frame_col: frame_id,\n",
        "            period_col: period,\n",
        "            clock_col: game_clock,\n",
        "            \"Home_Player_Count\": home_count,\n",
        "            \"Away_Player_Count\": away_count,\n",
        "            \"Coverage_Percent\": coverage_value\n",
        "        })\n",
        "\n",
        "    coverage_df = pd.DataFrame(coverage_results)\n",
        "    coverage_df.to_csv(output_csv, index=False)\n",
        "    print(f\"Coverage calculation complete. Results saved to '{output_csv}'.\")"
      ],
      "metadata": {
        "id": "nXfL-Q37kwkh"
      },
      "execution_count": 17,
      "outputs": []
    },
    {
      "cell_type": "code",
      "source": [
        "HG_tracking = pd.read_csv('/content/drive/MyDrive/Stathletes Big Data Cup 2025/2024-10-25.Team.H.@.Team.G.-.Tracking.csv',\n",
        "                          dtype={'Rink Location X (Feet)':float,\n",
        "                                 'Rink Location Y (Feet)': float},\n",
        "                          low_memory=False\n",
        ")\n",
        "\n",
        "CD_tracking = pd.read_csv('/content/drive/MyDrive/Stathletes Big Data Cup 2025/2024-11-15.Team.D.@.Team.C.-.Tracking.csv',\n",
        "                          dtype={'Rink Location X (Feet)':float,\n",
        "                                 'Rink Location Y (Feet)': float},\n",
        "                          low_memory=False\n",
        ")\n",
        "EF_tracking = pd.read_csv('/content/drive/MyDrive/Stathletes Big Data Cup 2025/2024-11-16.Team.F.@.Team.E.-.Tracking.csv',\n",
        "                          dtype={'Rink Location X (Feet)':float,\n",
        "                                 'Rink Location Y (Feet)': float},\n",
        "                          low_memory=False)\n",
        "\n",
        "file_path_HG = '/content/drive/MyDrive/coverage_HG.csv'\n",
        "file_path_CD = '/content/drive/MyDrive/coverage_CD.csv'\n",
        "file_path_EF = '/content/drive/MyDrive/coverage_EF.csv'\n",
        "\n",
        "calculate_coverage_dynamic(\n",
        "    HG_tracking,\n",
        "    home_label=\"Home\",\n",
        "    away_label=\"Away\",\n",
        "    frame_col=\"Image Id\",\n",
        "    team_col=\"Team\",\n",
        "    x_col=\"Rink Location X (Feet)\",\n",
        "    y_col=\"Rink Location Y (Feet)\",\n",
        "    period_col=\"Period\",\n",
        "    clock_col=\"Game Clock\",\n",
        "    output_csv=file_path_HG\n",
        "    )\n",
        "\n",
        "    # After running, a file named \"coverage_XY.csv\" will appear,\n",
        "    # containing columns: [Image Id, Period, Game Clock, Home_Player_Count, Away_Player_Count, Coverage_Percent]."
      ],
      "metadata": {
        "colab": {
          "base_uri": "https://localhost:8080/"
        },
        "id": "RA2DLKHuT9h9",
        "outputId": "b3091693-cd47-4319-8368-8e32c4077007"
      },
      "execution_count": 19,
      "outputs": [
        {
          "output_type": "stream",
          "name": "stdout",
          "text": [
            "Coverage calculation complete. Results saved to '/content/drive/MyDrive/coverage_HG.csv'.\n"
          ]
        }
      ]
    },
    {
      "cell_type": "code",
      "source": [
        "print(HG_tracking.columns)"
      ],
      "metadata": {
        "colab": {
          "base_uri": "https://localhost:8080/"
        },
        "id": "b0Z5s1lpWwnF",
        "outputId": "567eb05b-3542-4386-f396-a4ce62a90172"
      },
      "execution_count": null,
      "outputs": [
        {
          "output_type": "stream",
          "name": "stdout",
          "text": [
            "Index(['Image Id', 'Period', 'Game Clock', 'Player or Puck', 'Team',\n",
            "       'Player Id', 'Rink Location X (Feet)', 'Rink Location Y (Feet)',\n",
            "       'Rink Location Z (Feet)', 'Goal Score'],\n",
            "      dtype='object')\n"
          ]
        }
      ]
    }
  ]
}