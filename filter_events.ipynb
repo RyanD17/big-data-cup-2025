{
 "cells": [
  {
   "cell_type": "code",
   "execution_count": 4,
   "metadata": {},
   "outputs": [],
   "source": [
    "import pandas as pd\n",
    "\n",
    "# Load the CSV file\n",
    "data = pd.read_csv('2024-11-16.Team.F.@.Team.E.-.Events.csv')\n",
    "\n",
    "# Filter rows where 'Event' indicates a penalty\n",
    "penalties = data[data['Event'].str.contains('Penalty', case=False, na=False)]\n",
    "\n",
    "# Initialize an empty list to store penalty windows\n",
    "penalty_windows = []\n",
    "\n",
    "# Iterate over each penalty to extract the relevant rows\n",
    "for _, penalty_row in penalties.iterrows():\n",
    "    # Calculate the original total number of skaters before the penalty\n",
    "    penalty_index = penalty_row.name\n",
    "    original_skaters = data.loc[penalty_index - 1, 'Home_Team_Skaters'] + data.loc[penalty_index - 1, 'Away_Team_Skaters']\n",
    "\n",
    "    # Find the start and end of the penalty window\n",
    "    penalty_start_index = penalty_index\n",
    "    penalty_end_index = penalty_start_index\n",
    "\n",
    "    for i in range(penalty_start_index + 1, len(data)):\n",
    "        current_skaters = data.loc[i, 'Home_Team_Skaters'] + data.loc[i, 'Away_Team_Skaters']\n",
    "        if current_skaters == original_skaters:\n",
    "            penalty_end_index = i - 1\n",
    "            break\n",
    "\n",
    "    # Append the rows from the penalty window\n",
    "    penalty_windows.append(data.loc[penalty_start_index:penalty_end_index])\n",
    "\n",
    "# Combine all penalty windows into a single DataFrame\n",
    "penalty_plays = pd.concat(penalty_windows, ignore_index=True)\n",
    "\n",
    "# Save the resulting DataFrame to a CSV file\n",
    "penalty_plays.to_csv('penalty_plays_ef.csv', index=False)\n"
   ]
  },
  {
   "cell_type": "code",
   "execution_count": null,
   "metadata": {},
   "outputs": [],
   "source": []
  }
 ],
 "metadata": {
  "kernelspec": {
   "display_name": "Python 3",
   "language": "python",
   "name": "python3"
  },
  "language_info": {
   "codemirror_mode": {
    "name": "ipython",
    "version": 3
   },
   "file_extension": ".py",
   "mimetype": "text/x-python",
   "name": "python",
   "nbconvert_exporter": "python",
   "pygments_lexer": "ipython3",
   "version": "3.10.6"
  }
 },
 "nbformat": 4,
 "nbformat_minor": 2
}
