{
 "cells": [
  {
   "cell_type": "code",
   "execution_count": 59,
   "metadata": {},
   "outputs": [],
   "source": [
    "import pandas as pd\n",
    "\n",
    "# Load the Events CSV file\n",
    "data = pd.read_csv('raw_data/2024-11-16.Team.F.@.Team.E.-.Events.csv')\n",
    "\n",
    "# Filter rows where the 'Event' column indicates a penalty and skater counts are unequal\n",
    "penalties = data[\n",
    "    (data['Home_Team_Skaters'] != data['Away_Team_Skaters'])\n",
    "]\n",
    "\n",
    "# Save the resulting DataFrame to a CSV file\n",
    "penalties.to_csv('penalty_plays_ef.csv', index=False)\n"
   ]
  },
  {
   "cell_type": "code",
   "execution_count": 60,
   "metadata": {},
   "outputs": [],
   "source": [
    "# Load the shifts data\n",
    "shifts_data = pd.read_csv('raw_data/2024-11-16.Team.F.@.Team.E.-.Shifts.csv')\n",
    "\n",
    "# Filter the shifts data based on penalty times\n",
    "filtered_shifts = []\n",
    "for _, penalty_row in penalties.iterrows():\n",
    "    penalty_start = penalty_row['Clock']\n",
    "    penalty_end = penalty_row.get('End_Clock', penalty_row['Clock'])  # Handle cases where End_Clock might exist\n",
    "    penalty_period = penalty_row['Period']\n",
    "\n",
    "    # Filter shifts that overlap with the penalty period and game\n",
    "    matching_shifts = shifts_data[(shifts_data['period'] == penalty_period) & \n",
    "                                  (\n",
    "                                      ((shifts_data['start_clock'] <= penalty_start) & (shifts_data['end_clock'] >= penalty_start)) |\n",
    "                                      ((shifts_data['start_clock'] >= penalty_start) & (shifts_data['start_clock'] <= penalty_end))\n",
    "                                  )]\n",
    "    filtered_shifts.append(matching_shifts)\n",
    "\n",
    "# Combine all filtered shifts into a single DataFrame\n",
    "filtered_shifts_data = pd.concat(filtered_shifts, ignore_index=True)\n",
    "\n",
    "# Save the filtered shifts to a CSV file\n",
    "filtered_shifts_data.to_csv('filtered_shifts_ef.csv', index=False)\n"
   ]
  },
  {
   "cell_type": "code",
   "execution_count": 61,
   "metadata": {},
   "outputs": [
    {
     "name": "stderr",
     "output_type": "stream",
     "text": [
      "C:\\Users\\seanc\\AppData\\Local\\Temp\\ipykernel_30536\\1105897164.py:4: DtypeWarning: Columns (9) have mixed types. Specify dtype option on import or set low_memory=False.\n",
      "  tracking_data = pd.read_csv('raw_data/2024-11-16.Team.F.@.Team.E.-.Tracking.csv')\n"
     ]
    }
   ],
   "source": [
    "import pandas as pd\n",
    "\n",
    "# Load the Tracking CSV file\n",
    "tracking_data = pd.read_csv('raw_data/2024-11-16.Team.F.@.Team.E.-.Tracking.csv')\n",
    "\n",
    "# Initialize an empty list to store filtered tracking data\n",
    "filtered_tracking_data = []\n",
    "\n",
    "# Iterate over each penalty to filter relevant tracking data\n",
    "for _, penalty_row in penalties.iterrows():\n",
    "    penalty_start = penalty_row['Clock']\n",
    "    penalty_end = penalty_row.get('End_Clock', penalty_row['Clock'])\n",
    "    penalty_period = penalty_row['Period']\n",
    "\n",
    "    # Filter tracking data that overlaps with the penalty period\n",
    "    matching_tracking = tracking_data[\n",
    "        (tracking_data['Period'] == penalty_period) &\n",
    "        (tracking_data['Game Clock'] <= penalty_start) & \n",
    "        (tracking_data['Game Clock'] >= penalty_end)\n",
    "    ]\n",
    "    filtered_tracking_data.append(matching_tracking)\n",
    "\n",
    "# Combine all filtered tracking data into a single DataFrame\n",
    "filtered_tracking_df = pd.concat(filtered_tracking_data, ignore_index=True)\n",
    "\n",
    "# Save the filtered tracking data to a CSV file\n",
    "filtered_tracking_df.to_csv('filtered_tracking_ef.csv', index=False)\n"
   ]
  }
 ],
 "metadata": {
  "kernelspec": {
   "display_name": "Python 3",
   "language": "python",
   "name": "python3"
  },
  "language_info": {
   "codemirror_mode": {
    "name": "ipython",
    "version": 3
   },
   "file_extension": ".py",
   "mimetype": "text/x-python",
   "name": "python",
   "nbconvert_exporter": "python",
   "pygments_lexer": "ipython3",
   "version": "3.10.6"
  }
 },
 "nbformat": 4,
 "nbformat_minor": 2
}
